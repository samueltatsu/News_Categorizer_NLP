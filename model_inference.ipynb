{
 "cells": [
  {
   "cell_type": "markdown",
   "metadata": {},
   "source": [
    "# Library"
   ]
  },
  {
   "cell_type": "code",
   "execution_count": 1,
   "metadata": {},
   "outputs": [
    {
     "name": "stdout",
     "output_type": "stream",
     "text": [
      "WARNING:tensorflow:From c:\\Users\\CIEL_W\\miniconda3\\Lib\\site-packages\\keras\\src\\losses.py:2976: The name tf.losses.sparse_softmax_cross_entropy is deprecated. Please use tf.compat.v1.losses.sparse_softmax_cross_entropy instead.\n",
      "\n"
     ]
    }
   ],
   "source": [
    "# base library\n",
    "import pandas as pd\n",
    "import numpy as np\n",
    "import tensorflow as tf\n",
    "\n",
    "# text preprocessing purpose\n",
    "import re\n",
    "import nltk\n",
    "from nltk.corpus import stopwords\n",
    "from nltk.tokenize import word_tokenize\n",
    "from nltk.stem import WordNetLemmatizer\n",
    "\n",
    "# model training and evaluation purpose\n",
    "from keras.models import Sequential\n",
    "from keras.layers import Dense, LSTM, Bidirectional, GRU, Dropout, Reshape\n",
    "from keras.optimizers import Adam\n",
    "\n",
    "# load model\n",
    "from tensorflow.keras.models import load_model\n",
    "\n",
    "import warnings\n",
    "warnings.filterwarnings('ignore')"
   ]
  },
  {
   "cell_type": "markdown",
   "metadata": {},
   "source": [
    "# Load Model"
   ]
  },
  {
   "cell_type": "code",
   "execution_count": 2,
   "metadata": {},
   "outputs": [
    {
     "name": "stdout",
     "output_type": "stream",
     "text": [
      "WARNING:tensorflow:From c:\\Users\\CIEL_W\\miniconda3\\Lib\\site-packages\\keras\\src\\backend.py:1398: The name tf.executing_eagerly_outside_functions is deprecated. Please use tf.compat.v1.executing_eagerly_outside_functions instead.\n",
      "\n",
      "WARNING:tensorflow:From c:\\Users\\CIEL_W\\miniconda3\\Lib\\site-packages\\keras\\src\\utils\\tf_utils.py:492: The name tf.ragged.RaggedTensorValue is deprecated. Please use tf.compat.v1.ragged.RaggedTensorValue instead.\n",
      "\n",
      "WARNING:tensorflow:From c:\\Users\\CIEL_W\\miniconda3\\Lib\\site-packages\\keras\\src\\optimizers\\__init__.py:309: The name tf.train.Optimizer is deprecated. Please use tf.compat.v1.train.Optimizer instead.\n",
      "\n"
     ]
    }
   ],
   "source": [
    "model = load_model('model.keras')"
   ]
  },
  {
   "cell_type": "markdown",
   "metadata": {},
   "source": [
    "# Create Dummy Data"
   ]
  },
  {
   "cell_type": "code",
   "execution_count": 3,
   "metadata": {},
   "outputs": [],
   "source": [
    "headlines = [\n",
    "    \"Tech Giants Unveil New Collaboration for Sustainable Energy Solutions\",\n",
    "    \"Stock Market Surges to Record Highs Amidst Economic Recovery Optimism\",\n",
    "    \"Health Experts Warn of Potential Surge in Flu Cases Amidst COVID-19 Pandemic\",\n",
    "    \"Artificial Intelligence Innovations Revolutionize Healthcare Diagnostics\",\n",
    "    \"Renowned Author Releases Highly Anticipated Novel on Climate Change\"\n",
    "]\n",
    "summaries = [\n",
    "    \"Leading technology companies announced a joint initiative aimed at developing innovative solutions to address global energy challenges, emphasizing sustainability and renewable sources.\",\n",
    "    \"Investor optimism drives stock market indices to new highs as positive economic indicators fuel hopes of a swift recovery from recent downturns.\",\n",
    "    \"Public health officials express concerns over the possibility of an increase in influenza infections alongside the ongoing COVID-19 crisis, urging enhanced preventive measures and vaccination campaigns.\",\n",
    "    \"Breakthroughs in AI technology reshape the landscape of medical diagnostics, offering faster and more accurate assessments while paving the way for personalized treatment approaches.\",\n",
    "    \"Acclaimed author launches a thought-provoking literary work that explores the complex interplay between humanity and the environment, shedding light on pressing issues of climate change and sustainability.\"\n",
    "]\n",
    "\n",
    "dummy_df = pd.DataFrame({\n",
    "    \"headlines\": headlines,\n",
    "    \"summaries\": summaries\n",
    "})"
   ]
  },
  {
   "cell_type": "markdown",
   "metadata": {},
   "source": [
    "### Concat Dataframe"
   ]
  },
  {
   "cell_type": "code",
   "execution_count": 4,
   "metadata": {},
   "outputs": [
    {
     "data": {
      "text/html": [
       "<div>\n",
       "<style scoped>\n",
       "    .dataframe tbody tr th:only-of-type {\n",
       "        vertical-align: middle;\n",
       "    }\n",
       "\n",
       "    .dataframe tbody tr th {\n",
       "        vertical-align: top;\n",
       "    }\n",
       "\n",
       "    .dataframe thead th {\n",
       "        text-align: right;\n",
       "    }\n",
       "</style>\n",
       "<table border=\"1\" class=\"dataframe\">\n",
       "  <thead>\n",
       "    <tr style=\"text-align: right;\">\n",
       "      <th></th>\n",
       "      <th>text</th>\n",
       "    </tr>\n",
       "  </thead>\n",
       "  <tbody>\n",
       "    <tr>\n",
       "      <th>0</th>\n",
       "      <td>Tech Giants Unveil New Collaboration for Susta...</td>\n",
       "    </tr>\n",
       "    <tr>\n",
       "      <th>1</th>\n",
       "      <td>Stock Market Surges to Record Highs Amidst Eco...</td>\n",
       "    </tr>\n",
       "    <tr>\n",
       "      <th>2</th>\n",
       "      <td>Health Experts Warn of Potential Surge in Flu ...</td>\n",
       "    </tr>\n",
       "    <tr>\n",
       "      <th>3</th>\n",
       "      <td>Artificial Intelligence Innovations Revolution...</td>\n",
       "    </tr>\n",
       "    <tr>\n",
       "      <th>4</th>\n",
       "      <td>Renowned Author Releases Highly Anticipated No...</td>\n",
       "    </tr>\n",
       "  </tbody>\n",
       "</table>\n",
       "</div>"
      ],
      "text/plain": [
       "                                                text\n",
       "0  Tech Giants Unveil New Collaboration for Susta...\n",
       "1  Stock Market Surges to Record Highs Amidst Eco...\n",
       "2  Health Experts Warn of Potential Surge in Flu ...\n",
       "3  Artificial Intelligence Innovations Revolution...\n",
       "4  Renowned Author Releases Highly Anticipated No..."
      ]
     },
     "execution_count": 4,
     "metadata": {},
     "output_type": "execute_result"
    }
   ],
   "source": [
    "dummy_new = pd.DataFrame()\n",
    "dummy_new['text'] = dummy_df['headlines'] + ' ' + dummy_df['summaries']\n",
    "dummy_new"
   ]
  },
  {
   "cell_type": "markdown",
   "metadata": {},
   "source": [
    "# Preprocessing"
   ]
  },
  {
   "cell_type": "code",
   "execution_count": 5,
   "metadata": {},
   "outputs": [
    {
     "name": "stderr",
     "output_type": "stream",
     "text": [
      "[nltk_data] Downloading package punkt to\n",
      "[nltk_data]     C:\\Users\\CIEL_W\\AppData\\Roaming\\nltk_data...\n",
      "[nltk_data]   Package punkt is already up-to-date!\n",
      "[nltk_data] Downloading package stopwords to\n",
      "[nltk_data]     C:\\Users\\CIEL_W\\AppData\\Roaming\\nltk_data...\n",
      "[nltk_data]   Package stopwords is already up-to-date!\n",
      "[nltk_data] Downloading package wordnet to\n",
      "[nltk_data]     C:\\Users\\CIEL_W\\AppData\\Roaming\\nltk_data...\n",
      "[nltk_data]   Package wordnet is already up-to-date!\n"
     ]
    }
   ],
   "source": [
    "# initialize necessary packages\n",
    "nltk.download('punkt')\n",
    "nltk.download('stopwords')\n",
    "nltk.download('wordnet')\n",
    "\n",
    "# set stopwords and lemmatizer\n",
    "stop_words = set(stopwords.words('english'))\n",
    "lemmatizer = WordNetLemmatizer()\n",
    "\n",
    "# define function to preprocess text\n",
    "def preprocess_text(text):\n",
    "    # Case folding\n",
    "    words = text.lower()\n",
    "    # Mention removal\n",
    "    words = re.sub(\"@[A-Za-z0-9_]+\", \" \", text)\n",
    "    # Hashtags removal\n",
    "    words = re.sub(\"#[A-Za-z0-9_]+\", \" \", text)\n",
    "    # Newline removal (\\n)\n",
    "    words = re.sub(r\"\\\\n\", \" \",text)\n",
    "    # Whitespace removal\n",
    "    words = text.strip()\n",
    "    # URL removal\n",
    "    words = re.sub(r\"http\\S+\", \" \", text)\n",
    "    words = re.sub(r\"www.\\S+\", \" \", text)\n",
    "    # Non-letter removal (such as emoticon, symbol (like μ, $, 兀), etc\n",
    "    words = re.sub(\"[^A-Za-z\\s']\", \" \", text)\n",
    "\n",
    "    # tokenize text\n",
    "    tokens = word_tokenize(text)\n",
    "    # remove stopwords\n",
    "    tokens = [word for word in tokens if word not in stop_words]\n",
    "    # lemmatize words\n",
    "    tokens = [lemmatizer.lemmatize(word) for word in tokens]\n",
    "    # join the words back into a single string\n",
    "    return ' '.join(tokens)"
   ]
  },
  {
   "cell_type": "code",
   "execution_count": 6,
   "metadata": {},
   "outputs": [],
   "source": [
    "dummy_new['text'] = dummy_new['text'].apply(preprocess_text)"
   ]
  },
  {
   "cell_type": "markdown",
   "metadata": {},
   "source": [
    "# Inference"
   ]
  },
  {
   "cell_type": "markdown",
   "metadata": {},
   "source": [
    "WELLNESS:0, POLITICS:1, ENTERTAINMENT:2, TRAVEL:3, STYLE & BEAUTY:4, PARENTING:5, FOOD & DRINK:6, WORLD NEWS:7, BUSINESS:8, SPORTS:9"
   ]
  },
  {
   "cell_type": "code",
   "execution_count": 7,
   "metadata": {},
   "outputs": [
    {
     "name": "stdout",
     "output_type": "stream",
     "text": [
      "1/1 [==============================] - 2s 2s/step\n",
      "['BUSINESS', 'BUSINESS', 'WELLNESS', 'WELLNESS', 'ENTERTAINMENT']\n"
     ]
    }
   ],
   "source": [
    "# Perform prediction\n",
    "predictions = model.predict(dummy_new)\n",
    "\n",
    "# Get the index of the class with the highest probability for each prediction\n",
    "predicted_classes = np.argmax(predictions, axis=1)\n",
    "\n",
    "categories_dict = {0:\"WELLNESS\", 1:\"POLITICS\", 2:\"ENTERTAINMENT\", 3:\"TRAVEL\", 4:\"STYLE & BEAUTY\", 5:\"PARENTING\", 6:\"FOOD & DRINK\", 7:\"WORLD NEWS\", 8:\"BUSINESS\", 9:\"SPORTS\"}\n",
    "\n",
    "predicted_categories = [categories_dict[idx] for idx in predicted_classes]\n",
    "print(predicted_categories)"
   ]
  },
  {
   "cell_type": "markdown",
   "metadata": {},
   "source": [
    "### Display Result"
   ]
  },
  {
   "cell_type": "code",
   "execution_count": 8,
   "metadata": {},
   "outputs": [
    {
     "data": {
      "text/html": [
       "<div>\n",
       "<style scoped>\n",
       "    .dataframe tbody tr th:only-of-type {\n",
       "        vertical-align: middle;\n",
       "    }\n",
       "\n",
       "    .dataframe tbody tr th {\n",
       "        vertical-align: top;\n",
       "    }\n",
       "\n",
       "    .dataframe thead th {\n",
       "        text-align: right;\n",
       "    }\n",
       "</style>\n",
       "<table border=\"1\" class=\"dataframe\">\n",
       "  <thead>\n",
       "    <tr style=\"text-align: right;\">\n",
       "      <th></th>\n",
       "      <th>text</th>\n",
       "      <th>predicted_category</th>\n",
       "    </tr>\n",
       "  </thead>\n",
       "  <tbody>\n",
       "    <tr>\n",
       "      <th>0</th>\n",
       "      <td>Tech Giants Unveil New Collaboration Sustainab...</td>\n",
       "      <td>BUSINESS</td>\n",
       "    </tr>\n",
       "    <tr>\n",
       "      <th>1</th>\n",
       "      <td>Stock Market Surges Record Highs Amidst Econom...</td>\n",
       "      <td>BUSINESS</td>\n",
       "    </tr>\n",
       "    <tr>\n",
       "      <th>2</th>\n",
       "      <td>Health Experts Warn Potential Surge Flu Cases ...</td>\n",
       "      <td>WELLNESS</td>\n",
       "    </tr>\n",
       "    <tr>\n",
       "      <th>3</th>\n",
       "      <td>Artificial Intelligence Innovations Revolution...</td>\n",
       "      <td>WELLNESS</td>\n",
       "    </tr>\n",
       "    <tr>\n",
       "      <th>4</th>\n",
       "      <td>Renowned Author Releases Highly Anticipated No...</td>\n",
       "      <td>ENTERTAINMENT</td>\n",
       "    </tr>\n",
       "  </tbody>\n",
       "</table>\n",
       "</div>"
      ],
      "text/plain": [
       "                                                text predicted_category\n",
       "0  Tech Giants Unveil New Collaboration Sustainab...           BUSINESS\n",
       "1  Stock Market Surges Record Highs Amidst Econom...           BUSINESS\n",
       "2  Health Experts Warn Potential Surge Flu Cases ...           WELLNESS\n",
       "3  Artificial Intelligence Innovations Revolution...           WELLNESS\n",
       "4  Renowned Author Releases Highly Anticipated No...      ENTERTAINMENT"
      ]
     },
     "execution_count": 8,
     "metadata": {},
     "output_type": "execute_result"
    }
   ],
   "source": [
    "dummy_new['predicted_category'] = predicted_categories\n",
    "dummy_new"
   ]
  },
  {
   "cell_type": "markdown",
   "metadata": {},
   "source": [
    "We can see our model can categorize unseen data just fine. news 0-2 and 4 are given suitable label while news 3 seems a bit off but let's check what it says"
   ]
  },
  {
   "cell_type": "code",
   "execution_count": 9,
   "metadata": {},
   "outputs": [
    {
     "data": {
      "text/plain": [
       "'Artificial Intelligence Innovations Revolutionize Healthcare Diagnostics Breakthroughs AI technology reshape landscape medical diagnostics , offering faster accurate assessment paving way personalized treatment approach .'"
      ]
     },
     "execution_count": 9,
     "metadata": {},
     "output_type": "execute_result"
    }
   ],
   "source": [
    "dummy_new['text'][3]"
   ]
  },
  {
   "cell_type": "markdown",
   "metadata": {},
   "source": [
    "wow turns out text 3 also talks about health (wellness) instead of just AI, so the predictions isn't actually that bad"
   ]
  }
 ],
 "metadata": {
  "kernelspec": {
   "display_name": "base",
   "language": "python",
   "name": "python3"
  },
  "language_info": {
   "codemirror_mode": {
    "name": "ipython",
    "version": 3
   },
   "file_extension": ".py",
   "mimetype": "text/x-python",
   "name": "python",
   "nbconvert_exporter": "python",
   "pygments_lexer": "ipython3",
   "version": "3.11.5"
  }
 },
 "nbformat": 4,
 "nbformat_minor": 2
}
