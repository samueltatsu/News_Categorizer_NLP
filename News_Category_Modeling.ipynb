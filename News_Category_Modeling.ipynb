{
 "cells": [
  {
   "cell_type": "markdown",
   "metadata": {},
   "source": [
    "# Graded Challenge 7"
   ]
  },
  {
   "cell_type": "markdown",
   "metadata": {},
   "source": [
    "# Introduction\n",
    "\n",
    "Name: Samuel Tatang Surja <br>\n",
    "Batch: HCK-012 <br>\n",
    "<br>\n",
    "**Objective**: Develop a neural network model for doing NLP task. The task is to categorize news into certain categories based on text features such as their headline, link, short summary and/or keywords."
   ]
  },
  {
   "cell_type": "markdown",
   "metadata": {},
   "source": [
    "# Import Libraries"
   ]
  },
  {
   "cell_type": "code",
   "execution_count": 57,
   "metadata": {},
   "outputs": [],
   "source": [
    "# base library\n",
    "import pandas as pd\n",
    "import numpy as np\n",
    "import tensorflow as tf\n",
    "\n",
    "# visualization purpose\n",
    "import matplotlib.pyplot as plt\n",
    "import seaborn as sns \n",
    "\n",
    "# text preprocessing purpose\n",
    "import re\n",
    "import nltk\n",
    "from nltk.corpus import stopwords\n",
    "from nltk.tokenize import word_tokenize\n",
    "from nltk.stem import WordNetLemmatizer\n",
    "from tensorflow.keras.utils import to_categorical\n",
    "from sklearn.feature_extraction.text import CountVectorizer\n",
    "from tensorflow.keras.layers import TextVectorization, Embedding\n",
    "\n",
    "# model training and evaluation purpose\n",
    "from keras.models import Sequential\n",
    "from keras.layers import Dense, LSTM, Bidirectional, Dropout\n",
    "from keras.optimizers import Adam\n",
    "from sklearn.model_selection import train_test_split\n",
    "from sklearn.metrics import classification_report, confusion_matrix\n",
    "\n",
    "import warnings\n",
    "warnings.filterwarnings('ignore')"
   ]
  },
  {
   "cell_type": "markdown",
   "metadata": {},
   "source": [
    "# Data Loading"
   ]
  },
  {
   "cell_type": "markdown",
   "metadata": {},
   "source": [
    "I will be using [News Category Dataset](https://www.kaggle.com/datasets/setseries/news-category-dataset) from Kaggle."
   ]
  },
  {
   "cell_type": "code",
   "execution_count": 2,
   "metadata": {},
   "outputs": [
    {
     "data": {
      "text/html": [
       "<div>\n",
       "<style scoped>\n",
       "    .dataframe tbody tr th:only-of-type {\n",
       "        vertical-align: middle;\n",
       "    }\n",
       "\n",
       "    .dataframe tbody tr th {\n",
       "        vertical-align: top;\n",
       "    }\n",
       "\n",
       "    .dataframe thead th {\n",
       "        text-align: right;\n",
       "    }\n",
       "</style>\n",
       "<table border=\"1\" class=\"dataframe\">\n",
       "  <thead>\n",
       "    <tr style=\"text-align: right;\">\n",
       "      <th></th>\n",
       "      <th>category</th>\n",
       "      <th>headline</th>\n",
       "      <th>links</th>\n",
       "      <th>short_description</th>\n",
       "      <th>keywords</th>\n",
       "    </tr>\n",
       "  </thead>\n",
       "  <tbody>\n",
       "    <tr>\n",
       "      <th>0</th>\n",
       "      <td>WELLNESS</td>\n",
       "      <td>143 Miles in 35 Days: Lessons Learned</td>\n",
       "      <td>https://www.huffingtonpost.com/entry/running-l...</td>\n",
       "      <td>Resting is part of training. I've confirmed wh...</td>\n",
       "      <td>running-lessons</td>\n",
       "    </tr>\n",
       "    <tr>\n",
       "      <th>1</th>\n",
       "      <td>WELLNESS</td>\n",
       "      <td>Talking to Yourself: Crazy or Crazy Helpful?</td>\n",
       "      <td>https://www.huffingtonpost.com/entry/talking-t...</td>\n",
       "      <td>Think of talking to yourself as a tool to coac...</td>\n",
       "      <td>talking-to-yourself-crazy</td>\n",
       "    </tr>\n",
       "    <tr>\n",
       "      <th>2</th>\n",
       "      <td>WELLNESS</td>\n",
       "      <td>Crenezumab: Trial Will Gauge Whether Alzheimer...</td>\n",
       "      <td>https://www.huffingtonpost.com/entry/crenezuma...</td>\n",
       "      <td>The clock is ticking for the United States to ...</td>\n",
       "      <td>crenezumab-alzheimers-disease-drug</td>\n",
       "    </tr>\n",
       "    <tr>\n",
       "      <th>3</th>\n",
       "      <td>WELLNESS</td>\n",
       "      <td>Oh, What a Difference She Made</td>\n",
       "      <td>https://www.huffingtonpost.com/entry/meaningfu...</td>\n",
       "      <td>If you want to be busy, keep trying to be perf...</td>\n",
       "      <td>meaningful-life</td>\n",
       "    </tr>\n",
       "    <tr>\n",
       "      <th>4</th>\n",
       "      <td>WELLNESS</td>\n",
       "      <td>Green Superfoods</td>\n",
       "      <td>https://www.huffingtonpost.com/entry/green-sup...</td>\n",
       "      <td>First, the bad news: Soda bread, corned beef a...</td>\n",
       "      <td>green-superfoods</td>\n",
       "    </tr>\n",
       "    <tr>\n",
       "      <th>5</th>\n",
       "      <td>WELLNESS</td>\n",
       "      <td>Bad Love Advice: 9 Lessons To Unlearn</td>\n",
       "      <td>https://www.huffingtonpost.com/entry/bad-love-...</td>\n",
       "      <td>By Carey Moss for YouBeauty.com Love rom-coms,...</td>\n",
       "      <td>bad-love-advice-from-movies</td>\n",
       "    </tr>\n",
       "    <tr>\n",
       "      <th>6</th>\n",
       "      <td>WELLNESS</td>\n",
       "      <td>The Happiest (And Unhappiest) States In The U.S.</td>\n",
       "      <td>https://www.huffingtonpost.com/entry/happiest-...</td>\n",
       "      <td>The nation in general scored a 66.2 in 2011 on...</td>\n",
       "      <td>happiest-state-well-being-united-states-gallup</td>\n",
       "    </tr>\n",
       "    <tr>\n",
       "      <th>7</th>\n",
       "      <td>WELLNESS</td>\n",
       "      <td>Seaweed: The Green Superfood You're Not Eating...</td>\n",
       "      <td>https://www.huffingtonpost.com/entry/superfood...</td>\n",
       "      <td>It's also worth remembering that if the water ...</td>\n",
       "      <td>superfood-seaweed-health-benefits</td>\n",
       "    </tr>\n",
       "    <tr>\n",
       "      <th>8</th>\n",
       "      <td>WELLNESS</td>\n",
       "      <td>Addicted to Food?</td>\n",
       "      <td>https://www.huffingtonpost.com/entry/food-addi...</td>\n",
       "      <td>If you look at our culture's eating behavior, ...</td>\n",
       "      <td>food-addiction</td>\n",
       "    </tr>\n",
       "    <tr>\n",
       "      <th>9</th>\n",
       "      <td>WELLNESS</td>\n",
       "      <td>High Tech Works When It Enables High Touch</td>\n",
       "      <td>https://www.huffingtonpost.com/entry/high-tech...</td>\n",
       "      <td>François-Marie Arouet, 18th century French aut...</td>\n",
       "      <td>high-tech-works-when-it-e</td>\n",
       "    </tr>\n",
       "  </tbody>\n",
       "</table>\n",
       "</div>"
      ],
      "text/plain": [
       "   category                                           headline  \\\n",
       "0  WELLNESS              143 Miles in 35 Days: Lessons Learned   \n",
       "1  WELLNESS       Talking to Yourself: Crazy or Crazy Helpful?   \n",
       "2  WELLNESS  Crenezumab: Trial Will Gauge Whether Alzheimer...   \n",
       "3  WELLNESS                     Oh, What a Difference She Made   \n",
       "4  WELLNESS                                   Green Superfoods   \n",
       "5  WELLNESS              Bad Love Advice: 9 Lessons To Unlearn   \n",
       "6  WELLNESS   The Happiest (And Unhappiest) States In The U.S.   \n",
       "7  WELLNESS  Seaweed: The Green Superfood You're Not Eating...   \n",
       "8  WELLNESS                                  Addicted to Food?   \n",
       "9  WELLNESS         High Tech Works When It Enables High Touch   \n",
       "\n",
       "                                               links  \\\n",
       "0  https://www.huffingtonpost.com/entry/running-l...   \n",
       "1  https://www.huffingtonpost.com/entry/talking-t...   \n",
       "2  https://www.huffingtonpost.com/entry/crenezuma...   \n",
       "3  https://www.huffingtonpost.com/entry/meaningfu...   \n",
       "4  https://www.huffingtonpost.com/entry/green-sup...   \n",
       "5  https://www.huffingtonpost.com/entry/bad-love-...   \n",
       "6  https://www.huffingtonpost.com/entry/happiest-...   \n",
       "7  https://www.huffingtonpost.com/entry/superfood...   \n",
       "8  https://www.huffingtonpost.com/entry/food-addi...   \n",
       "9  https://www.huffingtonpost.com/entry/high-tech...   \n",
       "\n",
       "                                   short_description  \\\n",
       "0  Resting is part of training. I've confirmed wh...   \n",
       "1  Think of talking to yourself as a tool to coac...   \n",
       "2  The clock is ticking for the United States to ...   \n",
       "3  If you want to be busy, keep trying to be perf...   \n",
       "4  First, the bad news: Soda bread, corned beef a...   \n",
       "5  By Carey Moss for YouBeauty.com Love rom-coms,...   \n",
       "6  The nation in general scored a 66.2 in 2011 on...   \n",
       "7  It's also worth remembering that if the water ...   \n",
       "8  If you look at our culture's eating behavior, ...   \n",
       "9  François-Marie Arouet, 18th century French aut...   \n",
       "\n",
       "                                         keywords  \n",
       "0                                 running-lessons  \n",
       "1                       talking-to-yourself-crazy  \n",
       "2              crenezumab-alzheimers-disease-drug  \n",
       "3                                 meaningful-life  \n",
       "4                                green-superfoods  \n",
       "5                     bad-love-advice-from-movies  \n",
       "6  happiest-state-well-being-united-states-gallup  \n",
       "7               superfood-seaweed-health-benefits  \n",
       "8                                  food-addiction  \n",
       "9                       high-tech-works-when-it-e  "
      ]
     },
     "metadata": {},
     "output_type": "display_data"
    },
    {
     "data": {
      "text/html": [
       "<div>\n",
       "<style scoped>\n",
       "    .dataframe tbody tr th:only-of-type {\n",
       "        vertical-align: middle;\n",
       "    }\n",
       "\n",
       "    .dataframe tbody tr th {\n",
       "        vertical-align: top;\n",
       "    }\n",
       "\n",
       "    .dataframe thead th {\n",
       "        text-align: right;\n",
       "    }\n",
       "</style>\n",
       "<table border=\"1\" class=\"dataframe\">\n",
       "  <thead>\n",
       "    <tr style=\"text-align: right;\">\n",
       "      <th></th>\n",
       "      <th>category</th>\n",
       "      <th>headline</th>\n",
       "      <th>links</th>\n",
       "      <th>short_description</th>\n",
       "      <th>keywords</th>\n",
       "    </tr>\n",
       "  </thead>\n",
       "  <tbody>\n",
       "    <tr>\n",
       "      <th>49990</th>\n",
       "      <td>SPORTS</td>\n",
       "      <td>A Youth Soccer Team Beat Their Opponents, Then...</td>\n",
       "      <td>https://www.huffingtonpost.com/entry/barcelona...</td>\n",
       "      <td>And the video is now going viral.</td>\n",
       "      <td>barcelona-omiya-ardija</td>\n",
       "    </tr>\n",
       "    <tr>\n",
       "      <th>49991</th>\n",
       "      <td>SPORTS</td>\n",
       "      <td>Rafal Lipinski Nails Sick, Complicated Dunk</td>\n",
       "      <td>https://www.huffingtonpost.com/entry/rafal-lip...</td>\n",
       "      <td>Plenty of air, plenty to do</td>\n",
       "      <td>rafal-lipinski-nails-sick-complicated-dunk</td>\n",
       "    </tr>\n",
       "    <tr>\n",
       "      <th>49992</th>\n",
       "      <td>SPORTS</td>\n",
       "      <td>Terrence Ross Dunk Contest Video: Raptors' Roo...</td>\n",
       "      <td>https://www.huffingtonpost.com/entry/terrence-...</td>\n",
       "      <td>Whether or not Shaq knew him, Ross figures to ...</td>\n",
       "      <td>terrence-ross-dunk-contest-winner-2013-video</td>\n",
       "    </tr>\n",
       "    <tr>\n",
       "      <th>49993</th>\n",
       "      <td>SPORTS</td>\n",
       "      <td>Norovirus Outbreak At Winter Olympics Prompts ...</td>\n",
       "      <td>https://www.huffingtonpost.com/entry/norovirus...</td>\n",
       "      <td>Troops will replace hundreds of civilian secur...</td>\n",
       "      <td>norovirus-outbreak-at-winter-olympics-prompts-...</td>\n",
       "    </tr>\n",
       "    <tr>\n",
       "      <th>49994</th>\n",
       "      <td>SPORTS</td>\n",
       "      <td>Tiger Woods And Rory McIlroy, Honda Classic Li...</td>\n",
       "      <td>https://www.huffingtonpost.comhttp://golfweek....</td>\n",
       "      <td>Tiger Woods is looking to springboard off a 5-...</td>\n",
       "      <td>NaN</td>\n",
       "    </tr>\n",
       "    <tr>\n",
       "      <th>49995</th>\n",
       "      <td>SPORTS</td>\n",
       "      <td>This Baseball Team Learned There's A Wrong Way...</td>\n",
       "      <td>https://www.huffingtonpost.com/entry/san-jose-...</td>\n",
       "      <td>Many fans were pissed after seeing the minor l...</td>\n",
       "      <td>san-jose-giants-japanese-heritage-night</td>\n",
       "    </tr>\n",
       "    <tr>\n",
       "      <th>49996</th>\n",
       "      <td>SPORTS</td>\n",
       "      <td>Some Young Spurs Fan Dabbed 38 Times In A Sing...</td>\n",
       "      <td>https://www.huffingtonpost.com/entry/dab-kid-s...</td>\n",
       "      <td>Never change, young man. Never change.</td>\n",
       "      <td>dab-kid-san-antonio-spurs</td>\n",
       "    </tr>\n",
       "    <tr>\n",
       "      <th>49997</th>\n",
       "      <td>SPORTS</td>\n",
       "      <td>Rasheed Wallace Ejected From Knicks-Suns Game ...</td>\n",
       "      <td>https://www.huffingtonpost.com/entry/rasheed-w...</td>\n",
       "      <td>Wallace was hit with a first technical for a h...</td>\n",
       "      <td>rasheed-wallace-ejected-knicks-suns-ball-dont-lie</td>\n",
       "    </tr>\n",
       "    <tr>\n",
       "      <th>49998</th>\n",
       "      <td>SPORTS</td>\n",
       "      <td>Why Jake Plummer And Other NFL Players Are Pus...</td>\n",
       "      <td>https://www.huffingtonpost.comhttp://extras.de...</td>\n",
       "      <td>They believe CBD could be an alternative to po...</td>\n",
       "      <td>NaN</td>\n",
       "    </tr>\n",
       "    <tr>\n",
       "      <th>49999</th>\n",
       "      <td>SPORTS</td>\n",
       "      <td>Simone Biles Isn't The Next Anyone, She's 'The...</td>\n",
       "      <td>https://www.huffingtonpost.com/entry/the-first...</td>\n",
       "      <td>The gymnast is in a league of her own.</td>\n",
       "      <td>the-first-simone-biles</td>\n",
       "    </tr>\n",
       "  </tbody>\n",
       "</table>\n",
       "</div>"
      ],
      "text/plain": [
       "      category                                           headline  \\\n",
       "49990   SPORTS  A Youth Soccer Team Beat Their Opponents, Then...   \n",
       "49991   SPORTS        Rafal Lipinski Nails Sick, Complicated Dunk   \n",
       "49992   SPORTS  Terrence Ross Dunk Contest Video: Raptors' Roo...   \n",
       "49993   SPORTS  Norovirus Outbreak At Winter Olympics Prompts ...   \n",
       "49994   SPORTS  Tiger Woods And Rory McIlroy, Honda Classic Li...   \n",
       "49995   SPORTS  This Baseball Team Learned There's A Wrong Way...   \n",
       "49996   SPORTS  Some Young Spurs Fan Dabbed 38 Times In A Sing...   \n",
       "49997   SPORTS  Rasheed Wallace Ejected From Knicks-Suns Game ...   \n",
       "49998   SPORTS  Why Jake Plummer And Other NFL Players Are Pus...   \n",
       "49999   SPORTS  Simone Biles Isn't The Next Anyone, She's 'The...   \n",
       "\n",
       "                                                   links  \\\n",
       "49990  https://www.huffingtonpost.com/entry/barcelona...   \n",
       "49991  https://www.huffingtonpost.com/entry/rafal-lip...   \n",
       "49992  https://www.huffingtonpost.com/entry/terrence-...   \n",
       "49993  https://www.huffingtonpost.com/entry/norovirus...   \n",
       "49994  https://www.huffingtonpost.comhttp://golfweek....   \n",
       "49995  https://www.huffingtonpost.com/entry/san-jose-...   \n",
       "49996  https://www.huffingtonpost.com/entry/dab-kid-s...   \n",
       "49997  https://www.huffingtonpost.com/entry/rasheed-w...   \n",
       "49998  https://www.huffingtonpost.comhttp://extras.de...   \n",
       "49999  https://www.huffingtonpost.com/entry/the-first...   \n",
       "\n",
       "                                       short_description  \\\n",
       "49990                  And the video is now going viral.   \n",
       "49991                        Plenty of air, plenty to do   \n",
       "49992  Whether or not Shaq knew him, Ross figures to ...   \n",
       "49993  Troops will replace hundreds of civilian secur...   \n",
       "49994  Tiger Woods is looking to springboard off a 5-...   \n",
       "49995  Many fans were pissed after seeing the minor l...   \n",
       "49996             Never change, young man. Never change.   \n",
       "49997  Wallace was hit with a first technical for a h...   \n",
       "49998  They believe CBD could be an alternative to po...   \n",
       "49999             The gymnast is in a league of her own.   \n",
       "\n",
       "                                                keywords  \n",
       "49990                             barcelona-omiya-ardija  \n",
       "49991         rafal-lipinski-nails-sick-complicated-dunk  \n",
       "49992       terrence-ross-dunk-contest-winner-2013-video  \n",
       "49993  norovirus-outbreak-at-winter-olympics-prompts-...  \n",
       "49994                                                NaN  \n",
       "49995            san-jose-giants-japanese-heritage-night  \n",
       "49996                          dab-kid-san-antonio-spurs  \n",
       "49997  rasheed-wallace-ejected-knicks-suns-ball-dont-lie  \n",
       "49998                                                NaN  \n",
       "49999                             the-first-simone-biles  "
      ]
     },
     "metadata": {},
     "output_type": "display_data"
    }
   ],
   "source": [
    "data = pd.read_csv('NewsCategorizer.csv')\n",
    "display(data.head(10))\n",
    "display(data.tail(10))"
   ]
  },
  {
   "cell_type": "markdown",
   "metadata": {},
   "source": [
    "**Column Understanding**\n",
    "\n",
    "- category*: A category news article belongs to\n",
    "- headline: Headline of the news article\n",
    "- links: urls of the news article\n",
    "- short_description: brief description about the news article\n",
    "- keywords: focus keywords used in the url\n",
    "\n",
    "\\**Target Variable*"
   ]
  },
  {
   "cell_type": "markdown",
   "metadata": {},
   "source": [
    "### Data Transformation"
   ]
  },
  {
   "cell_type": "markdown",
   "metadata": {},
   "source": [
    "I will in any case use headline and short description as feature to determine the news category. After considering their usefulness to the news context, I decided to drop links and keywords. Links are not very helpful to provide context of the news category, meanwhile although keywords might provide additional contextual information, it is mostly extracted from either the headline or short description so it is kind of redundant information."
   ]
  },
  {
   "cell_type": "code",
   "execution_count": 3,
   "metadata": {},
   "outputs": [
    {
     "data": {
      "text/html": [
       "<div>\n",
       "<style scoped>\n",
       "    .dataframe tbody tr th:only-of-type {\n",
       "        vertical-align: middle;\n",
       "    }\n",
       "\n",
       "    .dataframe tbody tr th {\n",
       "        vertical-align: top;\n",
       "    }\n",
       "\n",
       "    .dataframe thead th {\n",
       "        text-align: right;\n",
       "    }\n",
       "</style>\n",
       "<table border=\"1\" class=\"dataframe\">\n",
       "  <thead>\n",
       "    <tr style=\"text-align: right;\">\n",
       "      <th></th>\n",
       "      <th>category</th>\n",
       "      <th>headline</th>\n",
       "      <th>links</th>\n",
       "      <th>short_description</th>\n",
       "      <th>keywords</th>\n",
       "      <th>text</th>\n",
       "    </tr>\n",
       "  </thead>\n",
       "  <tbody>\n",
       "    <tr>\n",
       "      <th>0</th>\n",
       "      <td>WELLNESS</td>\n",
       "      <td>143 Miles in 35 Days: Lessons Learned</td>\n",
       "      <td>https://www.huffingtonpost.com/entry/running-l...</td>\n",
       "      <td>Resting is part of training. I've confirmed wh...</td>\n",
       "      <td>running-lessons</td>\n",
       "      <td>143 Miles in 35 Days: Lessons Learned Resting ...</td>\n",
       "    </tr>\n",
       "    <tr>\n",
       "      <th>1</th>\n",
       "      <td>WELLNESS</td>\n",
       "      <td>Talking to Yourself: Crazy or Crazy Helpful?</td>\n",
       "      <td>https://www.huffingtonpost.com/entry/talking-t...</td>\n",
       "      <td>Think of talking to yourself as a tool to coac...</td>\n",
       "      <td>talking-to-yourself-crazy</td>\n",
       "      <td>Talking to Yourself: Crazy or Crazy Helpful? T...</td>\n",
       "    </tr>\n",
       "    <tr>\n",
       "      <th>2</th>\n",
       "      <td>WELLNESS</td>\n",
       "      <td>Crenezumab: Trial Will Gauge Whether Alzheimer...</td>\n",
       "      <td>https://www.huffingtonpost.com/entry/crenezuma...</td>\n",
       "      <td>The clock is ticking for the United States to ...</td>\n",
       "      <td>crenezumab-alzheimers-disease-drug</td>\n",
       "      <td>Crenezumab: Trial Will Gauge Whether Alzheimer...</td>\n",
       "    </tr>\n",
       "    <tr>\n",
       "      <th>3</th>\n",
       "      <td>WELLNESS</td>\n",
       "      <td>Oh, What a Difference She Made</td>\n",
       "      <td>https://www.huffingtonpost.com/entry/meaningfu...</td>\n",
       "      <td>If you want to be busy, keep trying to be perf...</td>\n",
       "      <td>meaningful-life</td>\n",
       "      <td>Oh, What a Difference She Made If you want to ...</td>\n",
       "    </tr>\n",
       "    <tr>\n",
       "      <th>4</th>\n",
       "      <td>WELLNESS</td>\n",
       "      <td>Green Superfoods</td>\n",
       "      <td>https://www.huffingtonpost.com/entry/green-sup...</td>\n",
       "      <td>First, the bad news: Soda bread, corned beef a...</td>\n",
       "      <td>green-superfoods</td>\n",
       "      <td>Green Superfoods First, the bad news: Soda bre...</td>\n",
       "    </tr>\n",
       "  </tbody>\n",
       "</table>\n",
       "</div>"
      ],
      "text/plain": [
       "   category                                           headline  \\\n",
       "0  WELLNESS              143 Miles in 35 Days: Lessons Learned   \n",
       "1  WELLNESS       Talking to Yourself: Crazy or Crazy Helpful?   \n",
       "2  WELLNESS  Crenezumab: Trial Will Gauge Whether Alzheimer...   \n",
       "3  WELLNESS                     Oh, What a Difference She Made   \n",
       "4  WELLNESS                                   Green Superfoods   \n",
       "\n",
       "                                               links  \\\n",
       "0  https://www.huffingtonpost.com/entry/running-l...   \n",
       "1  https://www.huffingtonpost.com/entry/talking-t...   \n",
       "2  https://www.huffingtonpost.com/entry/crenezuma...   \n",
       "3  https://www.huffingtonpost.com/entry/meaningfu...   \n",
       "4  https://www.huffingtonpost.com/entry/green-sup...   \n",
       "\n",
       "                                   short_description  \\\n",
       "0  Resting is part of training. I've confirmed wh...   \n",
       "1  Think of talking to yourself as a tool to coac...   \n",
       "2  The clock is ticking for the United States to ...   \n",
       "3  If you want to be busy, keep trying to be perf...   \n",
       "4  First, the bad news: Soda bread, corned beef a...   \n",
       "\n",
       "                             keywords  \\\n",
       "0                     running-lessons   \n",
       "1           talking-to-yourself-crazy   \n",
       "2  crenezumab-alzheimers-disease-drug   \n",
       "3                     meaningful-life   \n",
       "4                    green-superfoods   \n",
       "\n",
       "                                                text  \n",
       "0  143 Miles in 35 Days: Lessons Learned Resting ...  \n",
       "1  Talking to Yourself: Crazy or Crazy Helpful? T...  \n",
       "2  Crenezumab: Trial Will Gauge Whether Alzheimer...  \n",
       "3  Oh, What a Difference She Made If you want to ...  \n",
       "4  Green Superfoods First, the bad news: Soda bre...  "
      ]
     },
     "execution_count": 3,
     "metadata": {},
     "output_type": "execute_result"
    }
   ],
   "source": [
    "data['text'] = data['headline'] + ' ' + data['short_description']\n",
    "data.head()"
   ]
  },
  {
   "cell_type": "code",
   "execution_count": 4,
   "metadata": {},
   "outputs": [
    {
     "data": {
      "text/html": [
       "<div>\n",
       "<style scoped>\n",
       "    .dataframe tbody tr th:only-of-type {\n",
       "        vertical-align: middle;\n",
       "    }\n",
       "\n",
       "    .dataframe tbody tr th {\n",
       "        vertical-align: top;\n",
       "    }\n",
       "\n",
       "    .dataframe thead th {\n",
       "        text-align: right;\n",
       "    }\n",
       "</style>\n",
       "<table border=\"1\" class=\"dataframe\">\n",
       "  <thead>\n",
       "    <tr style=\"text-align: right;\">\n",
       "      <th></th>\n",
       "      <th>text</th>\n",
       "      <th>category</th>\n",
       "    </tr>\n",
       "  </thead>\n",
       "  <tbody>\n",
       "    <tr>\n",
       "      <th>0</th>\n",
       "      <td>143 Miles in 35 Days: Lessons Learned Resting ...</td>\n",
       "      <td>WELLNESS</td>\n",
       "    </tr>\n",
       "    <tr>\n",
       "      <th>1</th>\n",
       "      <td>Talking to Yourself: Crazy or Crazy Helpful? T...</td>\n",
       "      <td>WELLNESS</td>\n",
       "    </tr>\n",
       "    <tr>\n",
       "      <th>2</th>\n",
       "      <td>Crenezumab: Trial Will Gauge Whether Alzheimer...</td>\n",
       "      <td>WELLNESS</td>\n",
       "    </tr>\n",
       "    <tr>\n",
       "      <th>3</th>\n",
       "      <td>Oh, What a Difference She Made If you want to ...</td>\n",
       "      <td>WELLNESS</td>\n",
       "    </tr>\n",
       "    <tr>\n",
       "      <th>4</th>\n",
       "      <td>Green Superfoods First, the bad news: Soda bre...</td>\n",
       "      <td>WELLNESS</td>\n",
       "    </tr>\n",
       "  </tbody>\n",
       "</table>\n",
       "</div>"
      ],
      "text/plain": [
       "                                                text  category\n",
       "0  143 Miles in 35 Days: Lessons Learned Resting ...  WELLNESS\n",
       "1  Talking to Yourself: Crazy or Crazy Helpful? T...  WELLNESS\n",
       "2  Crenezumab: Trial Will Gauge Whether Alzheimer...  WELLNESS\n",
       "3  Oh, What a Difference She Made If you want to ...  WELLNESS\n",
       "4  Green Superfoods First, the bad news: Soda bre...  WELLNESS"
      ]
     },
     "execution_count": 4,
     "metadata": {},
     "output_type": "execute_result"
    }
   ],
   "source": [
    "data_new = data[['text', 'category']]\n",
    "data_new.head()"
   ]
  },
  {
   "cell_type": "markdown",
   "metadata": {},
   "source": [
    "Looking good. We will work with this data."
   ]
  },
  {
   "cell_type": "markdown",
   "metadata": {},
   "source": [
    "# Exploratory Data Analysis I"
   ]
  },
  {
   "cell_type": "markdown",
   "metadata": {},
   "source": [
    "**Copy Data**"
   ]
  },
  {
   "cell_type": "code",
   "execution_count": 5,
   "metadata": {},
   "outputs": [],
   "source": [
    "data_eda = data_new.copy()"
   ]
  },
  {
   "cell_type": "markdown",
   "metadata": {},
   "source": [
    "### Data Info"
   ]
  },
  {
   "cell_type": "code",
   "execution_count": 6,
   "metadata": {},
   "outputs": [
    {
     "name": "stdout",
     "output_type": "stream",
     "text": [
      "<class 'pandas.core.frame.DataFrame'>\n",
      "RangeIndex: 50000 entries, 0 to 49999\n",
      "Data columns (total 2 columns):\n",
      " #   Column    Non-Null Count  Dtype \n",
      "---  ------    --------------  ----- \n",
      " 0   text      50000 non-null  object\n",
      " 1   category  50000 non-null  object\n",
      "dtypes: object(2)\n",
      "memory usage: 781.4+ KB\n"
     ]
    }
   ],
   "source": [
    "data_eda.info()"
   ]
  },
  {
   "cell_type": "markdown",
   "metadata": {},
   "source": [
    "- 50000 rows data\n",
    "- 1 text feature\n",
    "- 1 target variable (category)"
   ]
  },
  {
   "cell_type": "markdown",
   "metadata": {},
   "source": [
    "### Check Missing Values"
   ]
  },
  {
   "cell_type": "code",
   "execution_count": 7,
   "metadata": {},
   "outputs": [
    {
     "data": {
      "text/plain": [
       "text        0\n",
       "category    0\n",
       "dtype: int64"
      ]
     },
     "execution_count": 7,
     "metadata": {},
     "output_type": "execute_result"
    }
   ],
   "source": [
    "data_eda.isna().sum()"
   ]
  },
  {
   "cell_type": "markdown",
   "metadata": {},
   "source": [
    "- no missing values\n",
    "- we saw some missing values in keywords column before but since we dropped it, all good now"
   ]
  },
  {
   "cell_type": "markdown",
   "metadata": {},
   "source": [
    "### Target Distribution"
   ]
  },
  {
   "cell_type": "code",
   "execution_count": 8,
   "metadata": {},
   "outputs": [
    {
     "data": {
      "text/plain": [
       "<Axes: xlabel='count', ylabel='category'>"
      ]
     },
     "execution_count": 8,
     "metadata": {},
     "output_type": "execute_result"
    },
    {
     "data": {
      "image/png": "[encoded data removed]",
      "text/plain": [
       "<Figure size 640x480 with 1 Axes>"
      ]
     },
     "metadata": {},
     "output_type": "display_data"
    }
   ],
   "source": [
    "sns.countplot(data=data_eda, y='category', order=data_new['category'].value_counts().index, palette='Set2')"
   ]
  },
  {
   "cell_type": "markdown",
   "metadata": {},
   "source": [
    "Wow! The target distribution is very balanced."
   ]
  },
  {
   "cell_type": "markdown",
   "metadata": {},
   "source": [
    "### Check Duplicates"
   ]
  },
  {
   "cell_type": "code",
   "execution_count": 9,
   "metadata": {},
   "outputs": [
    {
     "data": {
      "text/plain": [
       "4251"
      ]
     },
     "execution_count": 9,
     "metadata": {},
     "output_type": "execute_result"
    }
   ],
   "source": [
    "data_eda.duplicated().sum()"
   ]
  },
  {
   "cell_type": "markdown",
   "metadata": {},
   "source": [
    "Unfortunately there are duplicate rows. let's see what happen to target distribution if we drop them."
   ]
  },
  {
   "cell_type": "code",
   "execution_count": 10,
   "metadata": {},
   "outputs": [
    {
     "data": {
      "text/plain": [
       "category\n",
       "WELLNESS          5000\n",
       "POLITICS          5000\n",
       "ENTERTAINMENT     5000\n",
       "TRAVEL            5000\n",
       "STYLE & BEAUTY    5000\n",
       "PARENTING         5000\n",
       "FOOD & DRINK      5000\n",
       "WORLD NEWS        5000\n",
       "BUSINESS          3091\n",
       "SPORTS            2658\n",
       "Name: count, dtype: int64"
      ]
     },
     "execution_count": 10,
     "metadata": {},
     "output_type": "execute_result"
    }
   ],
   "source": [
    "data_eda.drop_duplicates(inplace=True)\n",
    "data_eda.reset_index(drop=True)\n",
    "data_eda['category'].value_counts()"
   ]
  },
  {
   "cell_type": "markdown",
   "metadata": {},
   "source": [
    "Hmm, maybe the duplicates was the dataset creator's effort to balance the target variable. let's just keep the duplicates then."
   ]
  },
  {
   "cell_type": "code",
   "execution_count": 11,
   "metadata": {},
   "outputs": [
    {
     "data": {
      "text/plain": [
       "category\n",
       "WELLNESS          5000\n",
       "POLITICS          5000\n",
       "ENTERTAINMENT     5000\n",
       "TRAVEL            5000\n",
       "STYLE & BEAUTY    5000\n",
       "PARENTING         5000\n",
       "FOOD & DRINK      5000\n",
       "WORLD NEWS        5000\n",
       "BUSINESS          5000\n",
       "SPORTS            5000\n",
       "Name: count, dtype: int64"
      ]
     },
     "execution_count": 11,
     "metadata": {},
     "output_type": "execute_result"
    }
   ],
   "source": [
    "data_eda = data_new.copy()\n",
    "data_eda['category'].value_counts()"
   ]
  },
  {
   "cell_type": "markdown",
   "metadata": {},
   "source": [
    "### Text Length Distribution"
   ]
  },
  {
   "cell_type": "markdown",
   "metadata": {},
   "source": [
    "Let's see how long is each text and how the distribution looks like"
   ]
  },
  {
   "cell_type": "code",
   "execution_count": 14,
   "metadata": {},
   "outputs": [
    {
     "data": {
      "image/png": "[encoded data removed]",
      "text/plain": [
       "<Figure size 700x400 with 1 Axes>"
      ]
     },
     "metadata": {},
     "output_type": "display_data"
    },
    {
     "data": {
      "text/html": [
       "<div>\n",
       "<style scoped>\n",
       "    .dataframe tbody tr th:only-of-type {\n",
       "        vertical-align: middle;\n",
       "    }\n",
       "\n",
       "    .dataframe tbody tr th {\n",
       "        vertical-align: top;\n",
       "    }\n",
       "\n",
       "    .dataframe thead th {\n",
       "        text-align: right;\n",
       "    }\n",
       "</style>\n",
       "<table border=\"1\" class=\"dataframe\">\n",
       "  <thead>\n",
       "    <tr style=\"text-align: right;\">\n",
       "      <th></th>\n",
       "      <th>count</th>\n",
       "      <th>mean</th>\n",
       "      <th>std</th>\n",
       "      <th>min</th>\n",
       "      <th>25%</th>\n",
       "      <th>50%</th>\n",
       "      <th>75%</th>\n",
       "      <th>max</th>\n",
       "    </tr>\n",
       "  </thead>\n",
       "  <tbody>\n",
       "    <tr>\n",
       "      <th>text_len</th>\n",
       "      <td>50000.0</td>\n",
       "      <td>32.33444</td>\n",
       "      <td>13.132873</td>\n",
       "      <td>4.0</td>\n",
       "      <td>24.0</td>\n",
       "      <td>30.0</td>\n",
       "      <td>38.0</td>\n",
       "      <td>227.0</td>\n",
       "    </tr>\n",
       "  </tbody>\n",
       "</table>\n",
       "</div>"
      ],
      "text/plain": [
       "            count      mean        std  min   25%   50%   75%    max\n",
       "text_len  50000.0  32.33444  13.132873  4.0  24.0  30.0  38.0  227.0"
      ]
     },
     "execution_count": 14,
     "metadata": {},
     "output_type": "execute_result"
    }
   ],
   "source": [
    "text_len = []\n",
    "\n",
    "# save each text length into list\n",
    "for t in data_eda['text']:\n",
    "    text_len.append(len(t.split()))\n",
    "\n",
    "# save into dataframe\n",
    "text_len_df = pd.DataFrame({'text_len':text_len})\n",
    "\n",
    "# Create a histogram plot using Seaborn\n",
    "plt.figure(figsize=(7, 4))\n",
    "sns.histplot(data=text_len_df, x='text_len', bins=30, kde=True)\n",
    "plt.title('Distribution of Text Lengths')\n",
    "plt.xlabel('Text Length')\n",
    "plt.ylabel('Frequency')\n",
    "plt.tight_layout()\n",
    "plt.show()\n",
    "\n",
    "text_len_df.describe().T"
   ]
  },
  {
   "cell_type": "markdown",
   "metadata": {},
   "source": [
    "It seems most text length are about 30s, but there are a few news text that have more than 200 words in it. As text length doesn't provide any information to which category the news falls into, we will not include it as a feature."
   ]
  },
  {
   "cell_type": "markdown",
   "metadata": {},
   "source": [
    "# Text Preprocessing"
   ]
  },
  {
   "cell_type": "markdown",
   "metadata": {},
   "source": [
    "**Copy Data**"
   ]
  },
  {
   "cell_type": "code",
   "execution_count": 15,
   "metadata": {},
   "outputs": [],
   "source": [
    "data_tp = data_eda.copy()"
   ]
  },
  {
   "cell_type": "markdown",
   "metadata": {},
   "source": [
    "### Preprocessing"
   ]
  },
  {
   "cell_type": "markdown",
   "metadata": {},
   "source": [
    "We're going to preprocess the text, clean them so that only important and relevant words are left. We do this to make it easier for the model to learn and make predictions."
   ]
  },
  {
   "cell_type": "code",
   "execution_count": 16,
   "metadata": {},
   "outputs": [
    {
     "name": "stderr",
     "output_type": "stream",
     "text": [
      "[nltk_data] Downloading package punkt to\n",
      "[nltk_data]     C:\\Users\\CIEL_W\\AppData\\Roaming\\nltk_data...\n",
      "[nltk_data]   Package punkt is already up-to-date!\n",
      "[nltk_data] Downloading package stopwords to\n",
      "[nltk_data]     C:\\Users\\CIEL_W\\AppData\\Roaming\\nltk_data...\n",
      "[nltk_data]   Package stopwords is already up-to-date!\n",
      "[nltk_data] Downloading package wordnet to\n",
      "[nltk_data]     C:\\Users\\CIEL_W\\AppData\\Roaming\\nltk_data...\n",
      "[nltk_data]   Package wordnet is already up-to-date!\n"
     ]
    }
   ],
   "source": [
    "# initialize necessary packages\n",
    "nltk.download('punkt')\n",
    "nltk.download('stopwords')\n",
    "nltk.download('wordnet')\n",
    "\n",
    "# set stopwords and lemmatizer\n",
    "stop_words = set(stopwords.words('english'))\n",
    "lemmatizer = WordNetLemmatizer()"
   ]
  },
  {
   "cell_type": "code",
   "execution_count": 17,
   "metadata": {},
   "outputs": [],
   "source": [
    "# define function to preprocess text\n",
    "def preprocess_text(text):\n",
    "    # Case folding\n",
    "    words = text.lower()\n",
    "    # Mention removal\n",
    "    words = re.sub(\"@[A-Za-z0-9_]+\", \" \", text)\n",
    "    # Hashtags removal\n",
    "    words = re.sub(\"#[A-Za-z0-9_]+\", \" \", text)\n",
    "    # Newline removal (\\n)\n",
    "    words = re.sub(r\"\\\\n\", \" \",text)\n",
    "    # Whitespace removal\n",
    "    words = text.strip()\n",
    "    # URL removal\n",
    "    words = re.sub(r\"http\\S+\", \" \", text)\n",
    "    words = re.sub(r\"www.\\S+\", \" \", text)\n",
    "    # Non-letter removal (such as emoticon, symbol (like μ, $, 兀), etc\n",
    "    words = re.sub(\"[^A-Za-z\\s']\", \" \", text)\n",
    "\n",
    "    # tokenize text\n",
    "    tokens = word_tokenize(text)\n",
    "    # remove stopwords\n",
    "    tokens = [word for word in tokens if word not in stop_words]\n",
    "    # lemmatize words\n",
    "    tokens = [lemmatizer.lemmatize(word) for word in tokens]\n",
    "    # join the words back into a single string\n",
    "    return ' '.join(tokens)"
   ]
  },
  {
   "cell_type": "code",
   "execution_count": 18,
   "metadata": {},
   "outputs": [],
   "source": [
    "data_tp['text'] = data_tp['text'].apply(preprocess_text)"
   ]
  },
  {
   "cell_type": "code",
   "execution_count": 19,
   "metadata": {},
   "outputs": [
    {
     "data": {
      "text/html": [
       "<div>\n",
       "<style scoped>\n",
       "    .dataframe tbody tr th:only-of-type {\n",
       "        vertical-align: middle;\n",
       "    }\n",
       "\n",
       "    .dataframe tbody tr th {\n",
       "        vertical-align: top;\n",
       "    }\n",
       "\n",
       "    .dataframe thead th {\n",
       "        text-align: right;\n",
       "    }\n",
       "</style>\n",
       "<table border=\"1\" class=\"dataframe\">\n",
       "  <thead>\n",
       "    <tr style=\"text-align: right;\">\n",
       "      <th></th>\n",
       "      <th>text</th>\n",
       "      <th>category</th>\n",
       "    </tr>\n",
       "  </thead>\n",
       "  <tbody>\n",
       "    <tr>\n",
       "      <th>0</th>\n",
       "      <td>143 Miles 35 Days : Lessons Learned Resting pa...</td>\n",
       "      <td>0</td>\n",
       "    </tr>\n",
       "    <tr>\n",
       "      <th>1</th>\n",
       "      <td>Talking Yourself : Crazy Crazy Helpful ? Think...</td>\n",
       "      <td>0</td>\n",
       "    </tr>\n",
       "    <tr>\n",
       "      <th>2</th>\n",
       "      <td>Crenezumab : Trial Will Gauge Whether Alzheime...</td>\n",
       "      <td>0</td>\n",
       "    </tr>\n",
       "    <tr>\n",
       "      <th>3</th>\n",
       "      <td>Oh , What Difference She Made If want busy , k...</td>\n",
       "      <td>0</td>\n",
       "    </tr>\n",
       "    <tr>\n",
       "      <th>4</th>\n",
       "      <td>Green Superfoods First , bad news : Soda bread...</td>\n",
       "      <td>0</td>\n",
       "    </tr>\n",
       "  </tbody>\n",
       "</table>\n",
       "</div>"
      ],
      "text/plain": [
       "                                                text  category\n",
       "0  143 Miles 35 Days : Lessons Learned Resting pa...         0\n",
       "1  Talking Yourself : Crazy Crazy Helpful ? Think...         0\n",
       "2  Crenezumab : Trial Will Gauge Whether Alzheime...         0\n",
       "3  Oh , What Difference She Made If want busy , k...         0\n",
       "4  Green Superfoods First , bad news : Soda bread...         0"
      ]
     },
     "execution_count": 19,
     "metadata": {},
     "output_type": "execute_result"
    }
   ],
   "source": [
    "data_tp.head()"
   ]
  },
  {
   "cell_type": "markdown",
   "metadata": {},
   "source": [
    "Text successfully cleaned and preprocessed"
   ]
  },
  {
   "cell_type": "markdown",
   "metadata": {},
   "source": [
    "### Data Split"
   ]
  },
  {
   "cell_type": "code",
   "execution_count": 20,
   "metadata": {},
   "outputs": [
    {
     "name": "stdout",
     "output_type": "stream",
     "text": [
      "(36125,)\n",
      "(6375,)\n",
      "(7500,)\n"
     ]
    }
   ],
   "source": [
    "X_train_val, X_test, y_train_val, y_test = train_test_split(data_tp['text'], data_tp['category'], stratify=data_tp['category'], test_size=0.15, random_state=42)\n",
    "X_train, X_val, y_train, y_val = train_test_split(X_train_val, y_train_val, stratify=y_train_val, test_size=0.15, random_state=42)\n",
    "\n",
    "print(X_train.shape)\n",
    "print(X_val.shape)\n",
    "print(X_test.shape)"
   ]
  },
  {
   "cell_type": "markdown",
   "metadata": {},
   "source": [
    "Here we have a choice, we can do OneHotEncoding on the target variable and use Categorical Cross Entropy loss function, or convert them to sparse matrix and use Sparse Categorical Cross Entropy loss function. <br>\n",
    "I find one hot encoding method is more reliable when dealing with multiclass categorization task. <br>\n",
    "Let's OneHotEncode the target sets"
   ]
  },
  {
   "cell_type": "code",
   "execution_count": 21,
   "metadata": {},
   "outputs": [
    {
     "data": {
      "text/plain": [
       "array([[1., 0., 0., ..., 0., 0., 0.],\n",
       "       [0., 0., 0., ..., 0., 0., 0.],\n",
       "       [1., 0., 0., ..., 0., 0., 0.],\n",
       "       ...,\n",
       "       [1., 0., 0., ..., 0., 0., 0.],\n",
       "       [0., 0., 0., ..., 0., 0., 0.],\n",
       "       [0., 0., 0., ..., 1., 0., 0.]], dtype=float32)"
      ]
     },
     "execution_count": 21,
     "metadata": {},
     "output_type": "execute_result"
    }
   ],
   "source": [
    "y_train_ohe = to_categorical(y_train)\n",
    "y_val_ohe = to_categorical(y_val)\n",
    "y_test_ohe = to_categorical(y_test)\n",
    "y_train_ohe"
   ]
  },
  {
   "cell_type": "markdown",
   "metadata": {},
   "source": [
    "### Text Vectorization"
   ]
  },
  {
   "cell_type": "markdown",
   "metadata": {},
   "source": [
    "Computer understands number better than text, so we will vectorize the text. Beside making it easier for computer to understand, it is also a form of dimensionality reduction which is useful for conserving memory."
   ]
  },
  {
   "cell_type": "code",
   "execution_count": 39,
   "metadata": {},
   "outputs": [
    {
     "data": {
      "text/plain": [
       "<36125x42548 sparse matrix of type '<class 'numpy.int64'>'\n",
       "\twith 751416 stored elements in Compressed Sparse Row format>"
      ]
     },
     "execution_count": 39,
     "metadata": {},
     "output_type": "execute_result"
    }
   ],
   "source": [
    "# Get Vocabularies\n",
    "\n",
    "Vectorize = CountVectorizer()\n",
    "X_train_vec = Vectorize.fit_transform(X_train)\n",
    "X_val_vec = Vectorize.transform(X_val)\n",
    "X_test_vec = Vectorize.transform(X_test)\n",
    "\n",
    "X_train_vec"
   ]
  },
  {
   "cell_type": "code",
   "execution_count": 40,
   "metadata": {},
   "outputs": [
    {
     "name": "stdout",
     "output_type": "stream",
     "text": [
      "Total Vocab :  42548\n",
      "Maximum Sentence Length :  175 tokens\n"
     ]
    }
   ],
   "source": [
    "# Finding the Number of Vocabs and Max Token Length in One Document\n",
    "\n",
    "total_vocab = len(Vectorize.vocabulary_.keys())\n",
    "max_sen_len = max([len(i.split(\" \")) for i in X_train])\n",
    "\n",
    "print('Total Vocab : ', total_vocab)\n",
    "print('Maximum Sentence Length : ', max_sen_len, 'tokens')"
   ]
  },
  {
   "cell_type": "code",
   "execution_count": 41,
   "metadata": {},
   "outputs": [],
   "source": [
    "text_vectorization = TextVectorization(max_tokens=total_vocab,\n",
    "                                       standardize=\"lower_and_strip_punctuation\",\n",
    "                                       split=\"whitespace\",\n",
    "                                       ngrams=None,\n",
    "                                       output_mode=\"int\",\n",
    "                                       output_sequence_length=max_sen_len,\n",
    "                                       input_shape=(1,)) # Only use in Sequential API\n",
    "\n",
    "text_vectorization.adapt(X_train)"
   ]
  },
  {
   "cell_type": "code",
   "execution_count": 42,
   "metadata": {},
   "outputs": [
    {
     "data": {
      "text/plain": [
       "['',\n",
       " '[UNK]',\n",
       " 'the',\n",
       " 's',\n",
       " 'i',\n",
       " 'to',\n",
       " 'in',\n",
       " 'a',\n",
       " 'nt',\n",
       " 'of',\n",
       " 'and',\n",
       " 'for',\n",
       " 'it',\n",
       " 'new',\n",
       " 'one',\n",
       " 'you',\n",
       " 'is',\n",
       " 'photos',\n",
       " 'with',\n",
       " 'year']"
      ]
     },
     "execution_count": 42,
     "metadata": {},
     "output_type": "execute_result"
    }
   ],
   "source": [
    "# show top 20 most frequently used words\n",
    "text_vectorization.get_vocabulary()[:20]"
   ]
  },
  {
   "cell_type": "markdown",
   "metadata": {},
   "source": [
    "### Embedding"
   ]
  },
  {
   "cell_type": "markdown",
   "metadata": {},
   "source": [
    "Embedding is used in natural language processing tasks to convert sequences of integers (representing words or tokens) into dense vectors of fixed size. We talked before about how computers read number better than text."
   ]
  },
  {
   "cell_type": "code",
   "execution_count": 26,
   "metadata": {},
   "outputs": [],
   "source": [
    "# Embedding\n",
    "\n",
    "embedding = Embedding(input_dim=total_vocab,\n",
    "                      output_dim=128,\n",
    "                      embeddings_initializer=\"uniform\",\n",
    "                      input_length=max_sen_len)"
   ]
  },
  {
   "cell_type": "markdown",
   "metadata": {},
   "source": [
    "Let's see the result of what we've done so far"
   ]
  },
  {
   "cell_type": "code",
   "execution_count": 43,
   "metadata": {},
   "outputs": [
    {
     "name": "stdout",
     "output_type": "stream",
     "text": [
      "Document example\n",
      "143 Miles 35 Days : Lessons Learned Resting part training . I 've confirmed I sort already knew : I 'm built running streak . I 'm built hard workout three five day week lot cross training , physical therapy foam rolling . But I 've also confirmed I 'm stubborn .\n",
      "\n",
      "Result of Text Vectorization\n",
      "tf.Tensor(\n",
      "[[17343  4524  2999   912  1080   628 12182   131  1077     4    70  2335\n",
      "      4  1689   361   861     4   129  2063   770  5604     4   129  2063\n",
      "    237  1215   185   299    21    42   235  3483  1077  1690  2348 14319\n",
      "   3514    36     4    70    93  2335     4   129 10969     0     0     0\n",
      "      0     0     0     0     0     0     0     0     0     0     0     0\n",
      "      0     0     0     0     0     0     0     0     0     0     0     0\n",
      "      0     0     0     0     0     0     0     0     0     0     0     0\n",
      "      0     0     0     0     0     0     0     0     0     0     0     0\n",
      "      0     0     0     0     0     0     0     0     0     0     0     0\n",
      "      0     0     0     0     0     0     0     0     0     0     0     0\n",
      "      0     0     0     0     0     0     0     0     0     0     0     0\n",
      "      0     0     0     0     0     0     0     0     0     0     0     0\n",
      "      0     0     0     0     0     0     0     0     0     0     0     0\n",
      "      0     0     0     0     0     0     0     0     0     0     0     0\n",
      "      0     0     0     0     0     0     0]], shape=(1, 175), dtype=int64)\n",
      "Vector size :  (1, 175)\n",
      "\n",
      "Result of  Embedding\n",
      "tf.Tensor(\n",
      "[[[-6.9112587e-03  3.1432930e-02  7.3468313e-02 ...  5.2751843e-02\n",
      "   -2.1008754e-02 -1.8499526e-05]\n",
      "  [-1.1881910e-01 -1.6808374e-02  8.6997837e-02 ... -1.1570907e-01\n",
      "   -6.8281409e-03  1.3106123e-01]\n",
      "  [-6.3085323e-03  3.6497112e-02 -1.5567732e-01 ... -1.0324641e-01\n",
      "   -1.1053039e-01  1.1812601e-01]\n",
      "  ...\n",
      "  [ 1.8237942e-01  3.3379093e-02  6.9913149e-02 ...  1.7308509e-01\n",
      "   -9.6092179e-02 -4.3145422e-02]\n",
      "  [ 1.8237942e-01  3.3379093e-02  6.9913149e-02 ...  1.7308509e-01\n",
      "   -9.6092179e-02 -4.3145422e-02]\n",
      "  [ 1.8237942e-01  3.3379093e-02  6.9913149e-02 ...  1.7308509e-01\n",
      "   -9.6092179e-02 -4.3145422e-02]]], shape=(1, 175, 128), dtype=float32)\n",
      "Vector size :  (1, 175, 128)\n"
     ]
    }
   ],
   "source": [
    "## Document example\n",
    "print('Document example')\n",
    "print(data_tp['text'][0])\n",
    "print('')\n",
    "\n",
    "## Result of Text Vectorization\n",
    "print('Result of Text Vectorization')\n",
    "print(text_vectorization([data_tp['text'][0]]))\n",
    "print('Vector size : ', text_vectorization([data_tp['text'][0]]).shape)\n",
    "print('')\n",
    "\n",
    "## Result of  Embedding\n",
    "print('Result of  Embedding')\n",
    "print(embedding(text_vectorization([data_tp['text'][0]])))\n",
    "print('Vector size : ', embedding(text_vectorization([data_tp['text'][0]])).shape)"
   ]
  },
  {
   "cell_type": "markdown",
   "metadata": {},
   "source": [
    "# Model Base"
   ]
  },
  {
   "cell_type": "markdown",
   "metadata": {},
   "source": [
    "### Model Definition & Training"
   ]
  },
  {
   "cell_type": "markdown",
   "metadata": {},
   "source": [
    "As our base model we use simple sequential ANN structure with 1 hidden layer. We use LSTM for NLP"
   ]
  },
  {
   "cell_type": "code",
   "execution_count": 44,
   "metadata": {},
   "outputs": [
    {
     "name": "stdout",
     "output_type": "stream",
     "text": [
      "Epoch 1/20\n",
      "565/565 [==============================] - 72s 123ms/step - loss: 2.3042 - accuracy: 0.0967 - val_loss: 2.3031 - val_accuracy: 0.1001\n",
      "Epoch 2/20\n",
      "565/565 [==============================] - 71s 125ms/step - loss: 2.3033 - accuracy: 0.1016 - val_loss: 2.3028 - val_accuracy: 0.0999\n",
      "Epoch 3/20\n",
      "565/565 [==============================] - 77s 136ms/step - loss: 2.3030 - accuracy: 0.0987 - val_loss: 2.3028 - val_accuracy: 0.1001\n",
      "Epoch 4/20\n",
      "565/565 [==============================] - 65s 114ms/step - loss: 2.3031 - accuracy: 0.0971 - val_loss: 2.3027 - val_accuracy: 0.1001\n",
      "Epoch 5/20\n",
      "565/565 [==============================] - 73s 129ms/step - loss: 2.3029 - accuracy: 0.0997 - val_loss: 2.3026 - val_accuracy: 0.1001\n",
      "Epoch 6/20\n",
      "565/565 [==============================] - 65s 114ms/step - loss: 2.3029 - accuracy: 0.0990 - val_loss: 2.3026 - val_accuracy: 0.0999\n"
     ]
    }
   ],
   "source": [
    "## Clear Session\n",
    "seed = 20\n",
    "tf.keras.backend.clear_session()\n",
    "np.random.seed(seed)\n",
    "tf.random.set_seed(seed)\n",
    "\n",
    "## Define the architecture\n",
    "model_lstm_1 = Sequential()\n",
    "model_lstm_1.add(text_vectorization)\n",
    "model_lstm_1.add(embedding)\n",
    "model_lstm_1.add(LSTM(32, kernel_initializer=tf.keras.initializers.GlorotUniform(seed)))\n",
    "model_lstm_1.add(Dense(10, activation='softmax'))\n",
    "\n",
    "model_lstm_1.compile(loss='categorical_crossentropy', optimizer='adam', metrics='accuracy')\n",
    "\n",
    "callbacks = [tf.keras.callbacks.EarlyStopping(patience=5, monitor='val_accuracy', restore_best_weights=True)]\n",
    "\n",
    "# Model Training\n",
    "model_lstm_1_hist = model_lstm_1.fit(X_train, y_train_ohe, batch_size=64, epochs=20, validation_data=(X_val, y_val_ohe), callbacks=callbacks)"
   ]
  },
  {
   "cell_type": "markdown",
   "metadata": {},
   "source": [
    "### Model Evaluation"
   ]
  },
  {
   "cell_type": "code",
   "execution_count": 45,
   "metadata": {},
   "outputs": [
    {
     "data": {
      "image/png": "[encoded data removed]",
      "text/plain": [
       "<Figure size 1500x500 with 2 Axes>"
      ]
     },
     "metadata": {},
     "output_type": "display_data"
    }
   ],
   "source": [
    "# Plot Training Results\n",
    "\n",
    "model_lstm_1_hist_df = pd.DataFrame(model_lstm_1_hist.history)\n",
    "\n",
    "plt.figure(figsize=(15, 5))\n",
    "plt.subplot(1, 2, 1)\n",
    "sns.lineplot(data=model_lstm_1_hist_df[['accuracy', 'val_accuracy']])\n",
    "plt.grid()\n",
    "plt.title('Accuracy vs Val-Accuracy')\n",
    "\n",
    "plt.subplot(1, 2, 2)\n",
    "sns.lineplot(data=model_lstm_1_hist_df[['loss', 'val_loss']])\n",
    "plt.grid()\n",
    "plt.title('Loss vs Val-Loss')\n",
    "plt.show()"
   ]
  },
  {
   "cell_type": "markdown",
   "metadata": {},
   "source": [
    "Model performs quite consistently at 10% accuracy which is very bad. this might be due to overly simple structure and batch size. lowering the batch size, using dropout and trying out different structure or algorithm may increase model's performance."
   ]
  },
  {
   "cell_type": "markdown",
   "metadata": {},
   "source": [
    "# Model Improved"
   ]
  },
  {
   "cell_type": "markdown",
   "metadata": {},
   "source": [
    "### Model Definition and Training"
   ]
  },
  {
   "cell_type": "code",
   "execution_count": 51,
   "metadata": {},
   "outputs": [
    {
     "name": "stdout",
     "output_type": "stream",
     "text": [
      "Epoch 1/20\n",
      "1129/1129 [==============================] - 267s 228ms/step - loss: 0.3394 - accuracy: 0.9303 - val_loss: 0.9856 - val_accuracy: 0.7736\n",
      "Epoch 2/20\n",
      "1129/1129 [==============================] - 299s 265ms/step - loss: 0.0545 - accuracy: 0.9886 - val_loss: 1.0519 - val_accuracy: 0.7851\n",
      "Epoch 3/20\n",
      "1129/1129 [==============================] - 249s 220ms/step - loss: 0.0258 - accuracy: 0.9947 - val_loss: 1.1956 - val_accuracy: 0.7744\n",
      "Epoch 4/20\n",
      "1129/1129 [==============================] - 230s 204ms/step - loss: 0.0142 - accuracy: 0.9972 - val_loss: 1.3070 - val_accuracy: 0.7766\n",
      "Epoch 5/20\n",
      "1129/1129 [==============================] - 229s 203ms/step - loss: 0.0160 - accuracy: 0.9966 - val_loss: 1.3530 - val_accuracy: 0.7715\n",
      "Epoch 6/20\n",
      "1129/1129 [==============================] - 226s 200ms/step - loss: 0.0130 - accuracy: 0.9970 - val_loss: 1.3213 - val_accuracy: 0.7768\n",
      "Epoch 7/20\n",
      "1129/1129 [==============================] - 233s 206ms/step - loss: 0.0071 - accuracy: 0.9986 - val_loss: 1.5104 - val_accuracy: 0.7743\n"
     ]
    }
   ],
   "source": [
    "## Clear Session\n",
    "seed = 20\n",
    "tf.keras.backend.clear_session()\n",
    "np.random.seed(seed)\n",
    "tf.random.set_seed(seed)\n",
    "\n",
    "## Define the architecture\n",
    "model_lstm_2 = Sequential()\n",
    "model_lstm_2.add(text_vectorization)\n",
    "model_lstm_2.add(embedding)\n",
    "model_lstm_2.add(Bidirectional(LSTM(32, return_sequences=True, kernel_initializer=tf.keras.initializers.GlorotUniform(seed))))\n",
    "model_lstm_2.add(Dropout(0.1))\n",
    "model_lstm_2.add(Bidirectional(LSTM(16, kernel_initializer=tf.keras.initializers.GlorotUniform(seed))))\n",
    "model_lstm_2.add(Dropout(0.1))\n",
    "model_lstm_2.add(Dense(10, activation='softmax'))\n",
    "\n",
    "model_lstm_2.compile(loss='categorical_crossentropy', optimizer='adam', metrics='accuracy')\n",
    "\n",
    "callbacks = [tf.keras.callbacks.EarlyStopping(patience=5, monitor='val_accuracy', restore_best_weights=True)]\n",
    "\n",
    "# Model Training\n",
    "model_lstm_2_hist = model_lstm_2.fit(X_train, y_train_ohe, batch_size=32, epochs=20, validation_data=(X_val, y_val_ohe), callbacks=callbacks)"
   ]
  },
  {
   "cell_type": "markdown",
   "metadata": {},
   "source": [
    "### Model Evaluation"
   ]
  },
  {
   "cell_type": "code",
   "execution_count": 52,
   "metadata": {},
   "outputs": [
    {
     "data": {
      "image/png": "[encoded data removed]",
      "text/plain": [
       "<Figure size 1500x500 with 2 Axes>"
      ]
     },
     "metadata": {},
     "output_type": "display_data"
    }
   ],
   "source": [
    "# Plot Training Results\n",
    "\n",
    "model_lstm_2_hist_df = pd.DataFrame(model_lstm_2_hist.history)\n",
    "\n",
    "plt.figure(figsize=(15, 5))\n",
    "plt.subplot(1, 2, 1)\n",
    "sns.lineplot(data=model_lstm_2_hist_df[['accuracy', 'val_accuracy']])\n",
    "plt.grid()\n",
    "plt.title('Accuracy vs Val-Accuracy')\n",
    "\n",
    "plt.subplot(1, 2, 2)\n",
    "sns.lineplot(data=model_lstm_2_hist_df[['loss', 'val_loss']])\n",
    "plt.grid()\n",
    "plt.title('Loss vs Val-Loss')\n",
    "plt.show()"
   ]
  },
  {
   "cell_type": "markdown",
   "metadata": {},
   "source": [
    "Looking from the accuracy vs. val-accuracy graph alone, it's obvious the tuned model performs much better than the base one. let's evaluate it's performance on the test set and compare them"
   ]
  },
  {
   "cell_type": "code",
   "execution_count": 54,
   "metadata": {},
   "outputs": [
    {
     "name": "stdout",
     "output_type": "stream",
     "text": [
      "1129/1129 [==============================] - 47s 41ms/step - loss: 0.0167 - accuracy: 0.9975\n",
      "[0.016725387424230576, 0.9974809885025024]\n",
      "200/200 [==============================] - 9s 43ms/step - loss: 1.0519 - accuracy: 0.7851\n",
      "[1.0519049167633057, 0.7850980162620544]\n",
      "235/235 [==============================] - 10s 42ms/step - loss: 1.0649 - accuracy: 0.7744\n",
      "[1.0649309158325195, 0.774399995803833]\n"
     ]
    }
   ],
   "source": [
    "print(model_lstm_2.evaluate(X_train, y_train_ohe))\n",
    "print(model_lstm_2.evaluate(X_val, y_val_ohe))\n",
    "print(model_lstm_2.evaluate(X_test, y_test_ohe))"
   ]
  },
  {
   "cell_type": "markdown",
   "metadata": {},
   "source": [
    "77% accuracy. it's still considered overfit, but it's score is not bad."
   ]
  },
  {
   "cell_type": "markdown",
   "metadata": {},
   "source": [
    "# Model Saving"
   ]
  },
  {
   "cell_type": "markdown",
   "metadata": {},
   "source": [
    "Let's save our model for inference and deployment"
   ]
  },
  {
   "cell_type": "code",
   "execution_count": 56,
   "metadata": {},
   "outputs": [
    {
     "name": "stdout",
     "output_type": "stream",
     "text": [
      "INFO:tensorflow:Assets written to: model.H5\\assets\n"
     ]
    },
    {
     "name": "stderr",
     "output_type": "stream",
     "text": [
      "INFO:tensorflow:Assets written to: model.H5\\assets\n"
     ]
    }
   ],
   "source": [
    "model_lstm_2.save('model.keras')\n",
    "model_lstm_2.save('model.H5')"
   ]
  },
  {
   "cell_type": "markdown",
   "metadata": {},
   "source": [
    "# Conclusion"
   ]
  },
  {
   "cell_type": "markdown",
   "metadata": {},
   "source": [
    "*Model Analysis*\n",
    "- base model doesn't perform well, but after some tuning the performance increase significantly\n",
    "- model stil overfits, further adjustment to learning rate and dropout may improve model performance\n",
    "<br><br>\n",
    "\n",
    "*Overall Analysis*\n",
    "- Dataset used was very balanced, we left some duplicates to keep it that way\n",
    "<br><br>\n",
    "\n",
    "*Improvement Ideas*\n",
    "- During text preprocessing some stopwords still don't get recognized and cleaned, improvement or update to stopwords list may help the model to learn better\n",
    "<br><br>\n",
    "\n",
    "*Business Impact*\n",
    "- Accurate news categorization can efficiently filter and access relevant information\n",
    "- Analyzing news trends may provide insights to improve marketing strategy\n",
    "- Accurate categorization also enables businesses to assess potential risk and prevent loss"
   ]
  }
 ],
 "metadata": {
  "kernelspec": {
   "display_name": "base",
   "language": "python",
   "name": "python3"
  },
  "language_info": {
   "codemirror_mode": {
    "name": "ipython",
    "version": 3
   },
   "file_extension": ".py",
   "mimetype": "text/x-python",
   "name": "python",
   "nbconvert_exporter": "python",
   "pygments_lexer": "ipython3",
   "version": "3.11.5"
  }
 },
 "nbformat": 4,
 "nbformat_minor": 2
}
